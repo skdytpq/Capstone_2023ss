{
 "cells": [
  {
   "cell_type": "markdown",
   "id": "mexican-circus",
   "metadata": {},
   "source": [
    "Run cells bellow to download and preprocess the **MovieLens20M** dataset.\n",
    "\n",
    "Estimated time is around 45 minutes."
   ]
  },
  {
   "cell_type": "code",
   "execution_count": null,
   "id": "higher-gross",
   "metadata": {},
   "outputs": [
    {
     "name": "stdout",
     "output_type": "stream",
     "text": [
      "--2023-05-04 09:18:08--  https://files.grouplens.org/datasets/movielens/ml-20m.zip\n",
      "Resolving files.grouplens.org (files.grouplens.org)... 128.101.65.152\n",
      "Connecting to files.grouplens.org (files.grouplens.org)|128.101.65.152|:443... connected.\n",
      "HTTP request sent, awaiting response... 200 OK\n",
      "Length: 198702078 (189M) [application/zip]\n",
      "Saving to: ‘ml-20m.zip’\n",
      "\n",
      "ml-20m.zip           98%[==================> ] 186.16M  1.76MB/s    eta 2s     "
     ]
    }
   ],
   "source": [
    "!wget https://files.grouplens.org/datasets/movielens/ml-20m.zip"
   ]
  },
  {
   "cell_type": "code",
   "execution_count": null,
   "id": "sonic-burning",
   "metadata": {},
   "outputs": [],
   "source": [
    "!unzip ml-20m.zip"
   ]
  },
  {
   "cell_type": "code",
   "execution_count": null,
   "id": "pointed-presentation",
   "metadata": {},
   "outputs": [],
   "source": [
    "import pandas as pd"
   ]
  },
  {
   "cell_type": "markdown",
   "id": "desperate-oriental",
   "metadata": {},
   "source": [
    "All Items"
   ]
  },
  {
   "cell_type": "code",
   "execution_count": null,
   "id": "coupled-romania",
   "metadata": {},
   "outputs": [],
   "source": [
    "m = pd.read_csv('ml-20m/movies.csv')\n",
    "m = m[m.movieId.notnull()].reindex()\n",
    "m['itemid']=m.movieId.apply(lambda x: str(int(x)))\n",
    "m['product_name'] = m['title']\n",
    "items = m[['itemid','product_name','genres']]\n",
    "items.to_json('items.json')"
   ]
  },
  {
   "cell_type": "code",
   "execution_count": null,
   "id": "bf577dad",
   "metadata": {},
   "outputs": [],
   "source": [
    "items"
   ]
  },
  {
   "cell_type": "markdown",
   "id": "decimal-premium",
   "metadata": {},
   "source": [
    "Purchases and grouped purchases."
   ]
  },
  {
   "cell_type": "code",
   "execution_count": null,
   "id": "specific-welding",
   "metadata": {},
   "outputs": [],
   "source": [
    "interactions = pd.read_csv('ml-20m/ratings.csv')\n",
    "interactions = interactions[interactions.rating>=4.]\n",
    "interactions = interactions.sort_values(['userId','timestamp'])\n",
    "interactions['itemid'] = interactions['movieId'].apply(str)\n",
    "interactions['userid'] = interactions['userId'].apply(str)\n",
    "interactions['amount'] = 1\n",
    "interactions['date'] = interactions['timestamp']\n",
    "interactions[['itemid','userid','amount','date']]\n",
    "interactions.to_json(\"purchases.json\")\n",
    "interactions['itemids'] = interactions[['userid','itemid']].groupby(['userid'])['itemid'].transform(lambda x: ','.join(x))\n",
    "iii = interactions[['userId','itemids']].drop_duplicates()\n",
    "iii.to_json('purchases_txt.json')"
   ]
  },
  {
   "cell_type": "code",
   "execution_count": null,
   "id": "f1ffb6df",
   "metadata": {},
   "outputs": [],
   "source": [
    "interactions"
   ]
  },
  {
   "cell_type": "markdown",
   "id": "precious-advantage",
   "metadata": {},
   "source": [
    "Keep only users with 5 or more interactions.\n",
    "\n",
    "Purchases."
   ]
  },
  {
   "cell_type": "code",
   "execution_count": null,
   "id": "precious-consequence",
   "metadata": {},
   "outputs": [],
   "source": [
    "purchases=pd.read_json('purchases.json')\n",
    "purchases['userid'] = purchases.userid.apply(str)\n",
    "purchases['itemid'] = purchases.itemid.apply(str)\n",
    "purchases_item_counts = purchases[['userid','itemid']]\n",
    "purchases_user_counts = purchases[['userid','itemid']]\n",
    "purchases_user_count = purchases.groupby(['userid']).size().to_frame('nr_of_purchases').reset_index()\n",
    "purchases_user_count = purchases_user_count.sort_values(by=['nr_of_purchases'], ascending=False)\n",
    "pu5=purchases_user_count[purchases_user_count.nr_of_purchases>=5]\n",
    "purchases_pu5 = purchases[purchases.userid.isin(pu5.userid)]\n",
    "purchases_item_count_pu5 = purchases_pu5.groupby(['itemid']).size().to_frame('nr_of_purchases').reset_index()\n",
    "purchases_item_count_pu5 = purchases_item_count_pu5.sort_values(by=['nr_of_purchases'], ascending=False)\n",
    "purchases_pu5.to_json('purchases_pu5.json')"
   ]
  },
  {
   "cell_type": "code",
   "execution_count": null,
   "id": "e77858e6",
   "metadata": {},
   "outputs": [],
   "source": [
    "purchases_item_count_pu5"
   ]
  },
  {
   "cell_type": "markdown",
   "id": "lesbian-profile",
   "metadata": {},
   "source": [
    "Grouped purchases."
   ]
  },
  {
   "cell_type": "code",
   "execution_count": null,
   "id": "round-firewall",
   "metadata": {},
   "outputs": [],
   "source": [
    "purchases_pu5['itemids'] = purchases_pu5[['userid','itemid']].groupby(['userid'])['itemid'].transform(lambda x: ','.join(x))\n",
    "iii = purchases_pu5[['userId','itemids']].drop_duplicates()\n",
    "iii['userid']=iii['userId'].apply(str)\n",
    "iii = iii[['userid','itemids']]\n",
    "iii.to_json('purchases_txt_pu5.json')"
   ]
  },
  {
   "cell_type": "code",
   "execution_count": null,
   "id": "139cf81e",
   "metadata": {},
   "outputs": [],
   "source": [
    "iii"
   ]
  },
  {
   "cell_type": "markdown",
   "id": "optimum-source",
   "metadata": {},
   "source": [
    "Users."
   ]
  },
  {
   "cell_type": "code",
   "execution_count": null,
   "id": "dramatic-optimum",
   "metadata": {},
   "outputs": [],
   "source": [
    "iii['userid'].to_frame().to_json('users_pu5.json')"
   ]
  },
  {
   "cell_type": "code",
   "execution_count": null,
   "id": "d264bf3b",
   "metadata": {},
   "outputs": [],
   "source": [
    "iii['userid']"
   ]
  },
  {
   "cell_type": "markdown",
   "id": "previous-citizenship",
   "metadata": {},
   "source": [
    "Items"
   ]
  },
  {
   "cell_type": "code",
   "execution_count": null,
   "id": "utility-aurora",
   "metadata": {},
   "outputs": [],
   "source": [
    "items[items.itemid.isin(purchases_item_count_pu5.itemid)].to_json(\"items_pu5.json\")"
   ]
  },
  {
   "cell_type": "markdown",
   "id": "sitting-saying",
   "metadata": {},
   "source": [
    "Items sorted by number of interactions"
   ]
  },
  {
   "cell_type": "code",
   "execution_count": null,
   "id": "suited-cabin",
   "metadata": {},
   "outputs": [],
   "source": [
    "purchases_item_count_pu5.to_json(\"items_sorted_pu5.json\")"
   ]
  },
  {
   "cell_type": "code",
   "execution_count": null,
   "id": "78c70875",
   "metadata": {},
   "outputs": [],
   "source": [
    "purchases_item_count_pu5"
   ]
  },
  {
   "cell_type": "markdown",
   "id": "attached-center",
   "metadata": {},
   "source": [
    "Users sorted by number of interactions"
   ]
  },
  {
   "cell_type": "code",
   "execution_count": null,
   "id": "included-george",
   "metadata": {},
   "outputs": [],
   "source": [
    "pu5.to_json(\"users_sorted_pu5.json\")"
   ]
  },
  {
   "cell_type": "code",
   "execution_count": null,
   "id": "66965f77",
   "metadata": {},
   "outputs": [],
   "source": [
    "pu5"
   ]
  },
  {
   "cell_type": "markdown",
   "id": "growing-closer",
   "metadata": {},
   "source": [
    "Create train, val and test split."
   ]
  },
  {
   "cell_type": "code",
   "execution_count": null,
   "id": "antique-surfing",
   "metadata": {},
   "outputs": [],
   "source": [
    "users = pd.read_json('users_pu5.json')\n",
    "shuffled_users = users.sample(frac=1., random_state=42)\n",
    "test_users = shuffled_users.iloc[:10000]\n",
    "val_users = shuffled_users.iloc[10000:20000]\n",
    "train_users = shuffled_users.iloc[20000:]\n",
    "\n",
    "test_users.to_json(\"test_users.json\")\n",
    "val_users.to_json(\"val_users.json\")\n",
    "train_users.to_json(\"train_users.json\") \n",
    "\n",
    "len(train_users),len(val_users),len(test_users)"
   ]
  },
  {
   "cell_type": "code",
   "execution_count": null,
   "id": "01861272",
   "metadata": {},
   "outputs": [],
   "source": [
    "train_users"
   ]
  },
  {
   "cell_type": "markdown",
   "id": "together-cooler",
   "metadata": {},
   "source": [
    "List of generated json files with preprocessed data."
   ]
  },
  {
   "cell_type": "code",
   "execution_count": null,
   "id": "naughty-aircraft",
   "metadata": {},
   "outputs": [],
   "source": [
    "!ls *.json"
   ]
  }
 ],
 "metadata": {
  "kernelspec": {
   "display_name": "Python 3 (ipykernel)",
   "language": "python",
   "name": "python3"
  },
  "language_info": {
   "codemirror_mode": {
    "name": "ipython",
    "version": 3
   },
   "file_extension": ".py",
   "mimetype": "text/x-python",
   "name": "python",
   "nbconvert_exporter": "python",
   "pygments_lexer": "ipython3",
   "version": "3.8.15"
  }
 },
 "nbformat": 4,
 "nbformat_minor": 5
}
